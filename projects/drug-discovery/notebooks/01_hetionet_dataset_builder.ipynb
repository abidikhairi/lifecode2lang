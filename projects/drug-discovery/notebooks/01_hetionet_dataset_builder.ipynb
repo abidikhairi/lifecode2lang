{
 "cells": [
  {
   "cell_type": "markdown",
   "id": "9ff104d3",
   "metadata": {},
   "source": [
    "# Hetionet-Instruct Dataset Builder\n",
    "\n",
    "Author: [Khairi Abidi](https://github.com/abidikhairi)\n",
    "\n",
    "This notebook builds a dataset for drug discovery based on the hetionet knowledge graph."
   ]
  },
  {
   "cell_type": "code",
   "execution_count": null,
   "id": "5aa59999",
   "metadata": {},
   "outputs": [],
   "source": [
    "import pandas as pd\n",
    "from tqdm import tqdm"
   ]
  },
  {
   "cell_type": "code",
   "execution_count": null,
   "id": "8a8786c0",
   "metadata": {},
   "outputs": [],
   "source": [
    "edges_file = '../../../data/hetionet/edges.sif'\n",
    "nodes_file = '../../../data/hetionet/nodes.tsv'"
   ]
  },
  {
   "cell_type": "code",
   "execution_count": null,
   "id": "41b92ce5",
   "metadata": {},
   "outputs": [],
   "source": [
    "def get_id2name(nodes_file):\n",
    "    nodes_df = pd.read_csv(nodes_file, sep='\\t')\n",
    "    id2name = dict(zip(nodes_df['id'], nodes_df['name']))\n",
    "    return id2name"
   ]
  },
  {
   "cell_type": "code",
   "execution_count": null,
   "id": "3e00f75d",
   "metadata": {},
   "outputs": [],
   "source": [
    "id2name = get_id2name(nodes_file)"
   ]
  },
  {
   "cell_type": "code",
   "execution_count": null,
   "id": "a9765642",
   "metadata": {},
   "outputs": [],
   "source": [
    "edges_df = pd.read_csv(edges_file, sep='\\t')\n",
    "\n",
    "edges_df.head(2)"
   ]
  },
  {
   "cell_type": "code",
   "execution_count": null,
   "id": "83059c12",
   "metadata": {},
   "outputs": [],
   "source": [
    "compound_drug_edges = edges_df[edges_df['metaedge'] == 'CbG']\n",
    "\n",
    "compound_drug_edges.head(2)"
   ]
  },
  {
   "cell_type": "code",
   "execution_count": null,
   "id": "5791ebab",
   "metadata": {},
   "outputs": [],
   "source": [
    "compound_drug_edges1 = compound_drug_edges.groupby('target').agg({'source': list}).reset_index()\n",
    "\n",
    "compound_drug_edges1.head(2)"
   ]
  },
  {
   "cell_type": "code",
   "execution_count": null,
   "id": "d2ccd0a2",
   "metadata": {},
   "outputs": [],
   "source": [
    "allowed_types = ['GpBP', 'GpMF', 'GpCC']\n",
    "\n",
    "helper_dict = {\n",
    "    'GpBP': 'process',\n",
    "    'GpMF': 'molecular function',\n",
    "    'GpCC': 'location'\n",
    "}"
   ]
  },
  {
   "cell_type": "code",
   "execution_count": null,
   "id": "5166e2a8",
   "metadata": {},
   "outputs": [],
   "source": [
    "max_nodes_per_hop = 5\n",
    "num_heldout_genes = 100\n",
    "\n",
    "validation_genes = compound_drug_edges1['target'].sample(num_heldout_genes).tolist()\n",
    "train_genes_df = compound_drug_edges1[~compound_drug_edges1['target'].isin(validation_genes)]\n",
    "validation_genes_df = compound_drug_edges1[compound_drug_edges1['target'].isin(validation_genes)]"
   ]
  },
  {
   "cell_type": "code",
   "execution_count": null,
   "id": "65047439",
   "metadata": {},
   "outputs": [],
   "source": [
    "len(validation_genes_df), len(train_genes_df), len(validation_genes) "
   ]
  },
  {
   "cell_type": "code",
   "execution_count": null,
   "id": "b1122578",
   "metadata": {},
   "outputs": [],
   "source": [
    "def get_graph_structure(df):\n",
    "    rows = [] \n",
    "    \n",
    "    for idx, row in tqdm(enumerate(df.itertuples()), total=len(df)):\n",
    "        source = row.source\n",
    "        target = row.target\n",
    "        \n",
    "        compounds = map(id2name.get, source)\n",
    "        compounds = \" \\n\".join(map(lambda x: f'- {x}', compounds))        \n",
    "        \n",
    "        gene_df = edges_df[edges_df['source'] == target]\n",
    "        gene_df = gene_df[gene_df['metaedge'].isin(allowed_types)]\n",
    "        metaedges = gene_df['metaedge'].unique().tolist()\n",
    "        \n",
    "        xs = []\n",
    "        for metaedge in metaedges:\n",
    "            sub_df = gene_df[gene_df['metaedge'] == metaedge]\n",
    "            num_nodes = len(sub_df)\n",
    "            targets = sub_df.sample(n=min(max_nodes_per_hop, num_nodes))['target'].tolist()\n",
    "            y = helper_dict[metaedge]\n",
    "            targets = ', '.join(list(map(lambda x: f'[{y}, {x}]', targets)))\n",
    "            xs.append(targets)\n",
    "        \n",
    "        rows.append({\n",
    "            'CentralNode': id2name[target],\n",
    "            'Compounds': compounds,\n",
    "            '1HopNeighbors': xs\n",
    "        })\n",
    "            \n",
    "    return rows"
   ]
  },
  {
   "cell_type": "code",
   "execution_count": null,
   "id": "cccf72f9",
   "metadata": {},
   "outputs": [],
   "source": [
    "train_rows = get_graph_structure(train_genes_df)\n",
    "validation_rows = get_graph_structure(validation_genes_df)"
   ]
  },
  {
   "cell_type": "code",
   "execution_count": null,
   "id": "68165815",
   "metadata": {},
   "outputs": [],
   "source": [
    "task_prefix = 'Predict drugs for the central gene based on its neighborhood:'"
   ]
  },
  {
   "cell_type": "code",
   "execution_count": null,
   "id": "21a9dc71",
   "metadata": {},
   "outputs": [],
   "source": [
    "PROMPT_TEMPLATE = \"\"\"Central node: {{central node}}  \n",
    "One-hop neighbors: {{1-hop neighbor list}}  \n",
    "    \n",
    "Answer:\"\"\""
   ]
  },
  {
   "cell_type": "code",
   "execution_count": null,
   "id": "f3a7f1c7",
   "metadata": {},
   "outputs": [],
   "source": [
    "def get_dataset(rows,):\n",
    "    dataset = []\n",
    "    for row in rows:\n",
    "        central_node = row['CentralNode']\n",
    "        compounds = row['Compounds']\n",
    "        one_hop_neighbors = '\\n'.join(row['1HopNeighbors'])\n",
    "        \n",
    "        prompt = PROMPT_TEMPLATE.replace('{{central node}}', central_node)\n",
    "        prompt = prompt.replace('{{1-hop neighbor list}}', one_hop_neighbors)\n",
    "        prompt = f'{task_prefix}\\n{prompt}'\n",
    "        dataset.append({\n",
    "            'input': prompt,\n",
    "            'target': compounds\n",
    "        })\n",
    "    return pd.DataFrame(dataset)"
   ]
  },
  {
   "cell_type": "code",
   "execution_count": null,
   "id": "5349f52a",
   "metadata": {},
   "outputs": [],
   "source": [
    "train_df = get_dataset(train_rows)\n",
    "validation_df = get_dataset(validation_rows)"
   ]
  },
  {
   "cell_type": "code",
   "execution_count": null,
   "id": "e19db6e7",
   "metadata": {},
   "outputs": [],
   "source": [
    "train_df.shape, validation_df.shape"
   ]
  },
  {
   "cell_type": "markdown",
   "id": "62f5070b",
   "metadata": {},
   "source": [
    "## Push dataset to Huggingface Hub"
   ]
  },
  {
   "cell_type": "code",
   "execution_count": null,
   "id": "8f8b5938",
   "metadata": {},
   "outputs": [],
   "source": [
    "from huggingface_hub import HfApi"
   ]
  },
  {
   "cell_type": "code",
   "execution_count": null,
   "id": "6612521a",
   "metadata": {},
   "outputs": [],
   "source": [
    "api = HfApi()\n",
    "api.create_repo(repo_id=\"khairi/drug-discovery-hetionet\", exist_ok=True, repo_type='dataset')"
   ]
  },
  {
   "cell_type": "code",
   "execution_count": null,
   "id": "8225def9",
   "metadata": {},
   "outputs": [],
   "source": [
    "train_df.to_parquet(f'hf://datasets/khairi/drug-discovery-hetionet/train.parquet', index=False)"
   ]
  },
  {
   "cell_type": "code",
   "execution_count": null,
   "id": "7b88487e",
   "metadata": {},
   "outputs": [],
   "source": [
    "validation_df.to_parquet(f'hf://datasets/khairi/drug-discovery-hetionet/validation.parquet', index=False)"
   ]
  },
  {
   "cell_type": "code",
   "execution_count": null,
   "id": "7b457942",
   "metadata": {},
   "outputs": [],
   "source": [
    "# TODO: document the notebook"
   ]
  },
  {
   "cell_type": "code",
   "execution_count": null,
   "id": "bbeb7dfb",
   "metadata": {},
   "outputs": [],
   "source": []
  }
 ],
 "metadata": {
  "kernelspec": {
   "display_name": "torch",
   "language": "python",
   "name": "python3"
  },
  "language_info": {
   "codemirror_mode": {
    "name": "ipython",
    "version": 3
   },
   "file_extension": ".py",
   "mimetype": "text/x-python",
   "name": "python",
   "nbconvert_exporter": "python",
   "pygments_lexer": "ipython3",
   "version": "3.10.18"
  }
 },
 "nbformat": 4,
 "nbformat_minor": 5
}
