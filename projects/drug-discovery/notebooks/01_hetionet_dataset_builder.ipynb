{
 "cells": [
  {
   "cell_type": "markdown",
   "id": "9ff104d3",
   "metadata": {},
   "source": [
    "# Hetionet-Instruct Dataset Builder\n",
    "\n",
    "Author: [Khairi Abidi](https://github.com/abidikhairi)\n",
    "\n",
    "This notebook builds a dataset for drug discovery based on the hetionet knowledge graph."
   ]
  },
  {
   "cell_type": "code",
   "execution_count": 2,
   "id": "5aa59999",
   "metadata": {},
   "outputs": [],
   "source": [
    "import pandas as pd\n",
    "from tqdm import tqdm"
   ]
  },
  {
   "cell_type": "code",
   "execution_count": 14,
   "id": "8a8786c0",
   "metadata": {},
   "outputs": [],
   "source": [
    "edges_file = '../../../data/hetionet/edges.sif'\n",
    "nodes_file = '../../../data/hetionet/nodes.tsv'"
   ]
  },
  {
   "cell_type": "code",
   "execution_count": 15,
   "id": "41b92ce5",
   "metadata": {},
   "outputs": [],
   "source": [
    "def get_id2name(nodes_file):\n",
    "    nodes_df = pd.read_csv(nodes_file, sep='\\t')\n",
    "    id2name = dict(zip(nodes_df['id'], nodes_df['name']))\n",
    "    return id2name"
   ]
  },
  {
   "cell_type": "code",
   "execution_count": 20,
   "id": "3e00f75d",
   "metadata": {},
   "outputs": [],
   "source": [
    "id2name = get_id2name(nodes_file)"
   ]
  },
  {
   "cell_type": "code",
   "execution_count": 21,
   "id": "a9765642",
   "metadata": {},
   "outputs": [
    {
     "data": {
      "text/html": [
       "<div>\n",
       "<style scoped>\n",
       "    .dataframe tbody tr th:only-of-type {\n",
       "        vertical-align: middle;\n",
       "    }\n",
       "\n",
       "    .dataframe tbody tr th {\n",
       "        vertical-align: top;\n",
       "    }\n",
       "\n",
       "    .dataframe thead th {\n",
       "        text-align: right;\n",
       "    }\n",
       "</style>\n",
       "<table border=\"1\" class=\"dataframe\">\n",
       "  <thead>\n",
       "    <tr style=\"text-align: right;\">\n",
       "      <th></th>\n",
       "      <th>source</th>\n",
       "      <th>metaedge</th>\n",
       "      <th>target</th>\n",
       "    </tr>\n",
       "  </thead>\n",
       "  <tbody>\n",
       "    <tr>\n",
       "      <th>0</th>\n",
       "      <td>Gene::9021</td>\n",
       "      <td>GpBP</td>\n",
       "      <td>Biological Process::GO:0071357</td>\n",
       "    </tr>\n",
       "    <tr>\n",
       "      <th>1</th>\n",
       "      <td>Gene::51676</td>\n",
       "      <td>GpBP</td>\n",
       "      <td>Biological Process::GO:0098780</td>\n",
       "    </tr>\n",
       "  </tbody>\n",
       "</table>\n",
       "</div>"
      ],
      "text/plain": [
       "        source metaedge                          target\n",
       "0   Gene::9021     GpBP  Biological Process::GO:0071357\n",
       "1  Gene::51676     GpBP  Biological Process::GO:0098780"
      ]
     },
     "execution_count": 21,
     "metadata": {},
     "output_type": "execute_result"
    }
   ],
   "source": [
    "edges_df = pd.read_csv(edges_file, sep='\\t')\n",
    "\n",
    "edges_df.head(2)"
   ]
  },
  {
   "cell_type": "code",
   "execution_count": 22,
   "id": "83059c12",
   "metadata": {},
   "outputs": [
    {
     "data": {
      "text/html": [
       "<div>\n",
       "<style scoped>\n",
       "    .dataframe tbody tr th:only-of-type {\n",
       "        vertical-align: middle;\n",
       "    }\n",
       "\n",
       "    .dataframe tbody tr th {\n",
       "        vertical-align: top;\n",
       "    }\n",
       "\n",
       "    .dataframe thead th {\n",
       "        text-align: right;\n",
       "    }\n",
       "</style>\n",
       "<table border=\"1\" class=\"dataframe\">\n",
       "  <thead>\n",
       "    <tr style=\"text-align: right;\">\n",
       "      <th></th>\n",
       "      <th>source</th>\n",
       "      <th>metaedge</th>\n",
       "      <th>target</th>\n",
       "    </tr>\n",
       "  </thead>\n",
       "  <tbody>\n",
       "    <tr>\n",
       "      <th>728491</th>\n",
       "      <td>Compound::DB00514</td>\n",
       "      <td>CbG</td>\n",
       "      <td>Gene::1136</td>\n",
       "    </tr>\n",
       "    <tr>\n",
       "      <th>728492</th>\n",
       "      <td>Compound::DB00686</td>\n",
       "      <td>CbG</td>\n",
       "      <td>Gene::2246</td>\n",
       "    </tr>\n",
       "  </tbody>\n",
       "</table>\n",
       "</div>"
      ],
      "text/plain": [
       "                   source metaedge      target\n",
       "728491  Compound::DB00514      CbG  Gene::1136\n",
       "728492  Compound::DB00686      CbG  Gene::2246"
      ]
     },
     "execution_count": 22,
     "metadata": {},
     "output_type": "execute_result"
    }
   ],
   "source": [
    "compound_drug_edges = edges_df[edges_df['metaedge'] == 'CbG']\n",
    "\n",
    "compound_drug_edges.head(2)"
   ]
  },
  {
   "cell_type": "code",
   "execution_count": 23,
   "id": "5791ebab",
   "metadata": {},
   "outputs": [
    {
     "data": {
      "text/html": [
       "<div>\n",
       "<style scoped>\n",
       "    .dataframe tbody tr th:only-of-type {\n",
       "        vertical-align: middle;\n",
       "    }\n",
       "\n",
       "    .dataframe tbody tr th {\n",
       "        vertical-align: top;\n",
       "    }\n",
       "\n",
       "    .dataframe thead th {\n",
       "        text-align: right;\n",
       "    }\n",
       "</style>\n",
       "<table border=\"1\" class=\"dataframe\">\n",
       "  <thead>\n",
       "    <tr style=\"text-align: right;\">\n",
       "      <th></th>\n",
       "      <th>target</th>\n",
       "      <th>source</th>\n",
       "    </tr>\n",
       "  </thead>\n",
       "  <tbody>\n",
       "    <tr>\n",
       "      <th>0</th>\n",
       "      <td>Gene::10</td>\n",
       "      <td>[Compound::DB00951, Compound::DB00250, Compoun...</td>\n",
       "    </tr>\n",
       "    <tr>\n",
       "      <th>1</th>\n",
       "      <td>Gene::100</td>\n",
       "      <td>[Compound::DB00552, Compound::DB00640, Compoun...</td>\n",
       "    </tr>\n",
       "  </tbody>\n",
       "</table>\n",
       "</div>"
      ],
      "text/plain": [
       "      target                                             source\n",
       "0   Gene::10  [Compound::DB00951, Compound::DB00250, Compoun...\n",
       "1  Gene::100  [Compound::DB00552, Compound::DB00640, Compoun..."
      ]
     },
     "execution_count": 23,
     "metadata": {},
     "output_type": "execute_result"
    }
   ],
   "source": [
    "compound_drug_edges1 = compound_drug_edges.groupby('target').agg({'source': list}).reset_index()\n",
    "\n",
    "compound_drug_edges1.head(2)"
   ]
  },
  {
   "cell_type": "code",
   "execution_count": 24,
   "id": "d2ccd0a2",
   "metadata": {},
   "outputs": [],
   "source": [
    "allowed_types = ['GpBP', 'GpMF', 'GpCC']\n",
    "\n",
    "helper_dict = {\n",
    "    'GpBP': 'process',\n",
    "    'GpMF': 'molecular function',\n",
    "    'GpCC': 'location'\n",
    "}"
   ]
  },
  {
   "cell_type": "code",
   "execution_count": 25,
   "id": "5166e2a8",
   "metadata": {},
   "outputs": [],
   "source": [
    "max_nodes_per_hop = 5\n",
    "num_heldout_genes = 100\n",
    "\n",
    "validation_genes = compound_drug_edges1['target'].sample(num_heldout_genes).tolist()\n",
    "train_genes_df = compound_drug_edges1[~compound_drug_edges1['target'].isin(validation_genes)]\n",
    "validation_genes_df = compound_drug_edges1[compound_drug_edges1['target'].isin(validation_genes)]"
   ]
  },
  {
   "cell_type": "code",
   "execution_count": 26,
   "id": "65047439",
   "metadata": {},
   "outputs": [
    {
     "data": {
      "text/plain": [
       "(100, 1589, 100)"
      ]
     },
     "execution_count": 26,
     "metadata": {},
     "output_type": "execute_result"
    }
   ],
   "source": [
    "len(validation_genes_df), len(train_genes_df), len(validation_genes) "
   ]
  },
  {
   "cell_type": "code",
   "execution_count": 27,
   "id": "b1122578",
   "metadata": {},
   "outputs": [],
   "source": [
    "def get_graph_structure(df):\n",
    "    rows = [] \n",
    "    \n",
    "    for idx, row in tqdm(enumerate(df.itertuples()), total=len(df)):\n",
    "        source = row.source\n",
    "        target = row.target\n",
    "        \n",
    "        compounds = map(id2name.get, source)\n",
    "        compounds = \" \\n\".join(map(lambda x: f'- {x}', compounds))        \n",
    "        \n",
    "        gene_df = edges_df[edges_df['source'] == target]\n",
    "        gene_df = gene_df[gene_df['metaedge'].isin(allowed_types)]\n",
    "        metaedges = gene_df['metaedge'].unique().tolist()\n",
    "        \n",
    "        xs = []\n",
    "        for metaedge in metaedges:\n",
    "            sub_df = gene_df[gene_df['metaedge'] == metaedge]\n",
    "            num_nodes = len(sub_df)\n",
    "            targets = sub_df.sample(n=min(max_nodes_per_hop, num_nodes))['target'].tolist()\n",
    "            y = helper_dict[metaedge]\n",
    "            targets = ', '.join(list(map(lambda x: f'<{y}, {id2name[x]}>', targets)))\n",
    "            xs.append(targets)\n",
    "        \n",
    "        rows.append({\n",
    "            'CentralNode': id2name[target],\n",
    "            'Compounds': compounds,\n",
    "            '1HopNeighbors': xs\n",
    "        })\n",
    "            \n",
    "    return rows"
   ]
  },
  {
   "cell_type": "code",
   "execution_count": 28,
   "id": "cccf72f9",
   "metadata": {},
   "outputs": [
    {
     "name": "stderr",
     "output_type": "stream",
     "text": [
      "100%|██████████| 1589/1589 [02:17<00:00, 11.55it/s]\n",
      "100%|██████████| 100/100 [00:08<00:00, 11.63it/s]\n"
     ]
    }
   ],
   "source": [
    "train_rows = get_graph_structure(train_genes_df)\n",
    "validation_rows = get_graph_structure(validation_genes_df)"
   ]
  },
  {
   "cell_type": "code",
   "execution_count": 44,
   "id": "68165815",
   "metadata": {},
   "outputs": [],
   "source": [
    "task_prefix = 'Predict drugs for the central gene based on its neighborhood:'"
   ]
  },
  {
   "cell_type": "code",
   "execution_count": 45,
   "id": "21a9dc71",
   "metadata": {},
   "outputs": [],
   "source": [
    "PROMPT_TEMPLATE = \"\"\"Central node: {{central node}}  \n",
    "One-hop neighbors: {{1-hop neighbor list}}  \n",
    "    \n",
    "Answer:\"\"\""
   ]
  },
  {
   "cell_type": "code",
   "execution_count": 46,
   "id": "f3a7f1c7",
   "metadata": {},
   "outputs": [],
   "source": [
    "def get_dataset(rows,):\n",
    "    dataset = []\n",
    "    for row in rows:\n",
    "        central_node = row['CentralNode']\n",
    "        compounds = row['Compounds']\n",
    "        one_hop_neighbors = '\\n'.join(row['1HopNeighbors'])\n",
    "        \n",
    "        prompt = PROMPT_TEMPLATE.replace('{{central node}}', central_node)\n",
    "        prompt = prompt.replace('{{1-hop neighbor list}}', one_hop_neighbors)\n",
    "        prompt = f'{task_prefix}\\n{prompt}'\n",
    "        dataset.append({\n",
    "            'input': prompt,\n",
    "            'target': compounds\n",
    "        })\n",
    "    return pd.DataFrame(dataset)"
   ]
  },
  {
   "cell_type": "code",
   "execution_count": 48,
   "id": "5349f52a",
   "metadata": {},
   "outputs": [],
   "source": [
    "train_df = get_dataset(train_rows)\n",
    "validation_df = get_dataset(validation_rows)"
   ]
  },
  {
   "cell_type": "code",
   "execution_count": 49,
   "id": "e19db6e7",
   "metadata": {},
   "outputs": [
    {
     "data": {
      "text/plain": [
       "((1589, 2), (100, 2))"
      ]
     },
     "execution_count": 49,
     "metadata": {},
     "output_type": "execute_result"
    }
   ],
   "source": [
    "train_df.shape, validation_df.shape"
   ]
  },
  {
   "cell_type": "code",
   "execution_count": 50,
   "id": "8f8b5938",
   "metadata": {},
   "outputs": [],
   "source": [
    "from huggingface_hub import HfApi"
   ]
  },
  {
   "cell_type": "code",
   "execution_count": 51,
   "id": "6612521a",
   "metadata": {},
   "outputs": [
    {
     "data": {
      "text/plain": [
       "RepoUrl('https://huggingface.co/datasets/khairi/drug-discovery-hetionet', endpoint='https://huggingface.co', repo_type='dataset', repo_id='khairi/drug-discovery-hetionet')"
      ]
     },
     "execution_count": 51,
     "metadata": {},
     "output_type": "execute_result"
    }
   ],
   "source": [
    "api = HfApi()\n",
    "api.create_repo(repo_id=\"khairi/drug-discovery-hetionet\", exist_ok=True, repo_type='dataset')"
   ]
  },
  {
   "cell_type": "code",
   "execution_count": 52,
   "id": "8225def9",
   "metadata": {},
   "outputs": [
    {
     "data": {
      "application/vnd.jupyter.widget-view+json": {
       "model_id": "a246f2864a38444a9d7ea61c8036a4bc",
       "version_major": 2,
       "version_minor": 0
      },
      "text/plain": [
       "Processing Files (0 / 0)                : |          |  0.00B /  0.00B            "
      ]
     },
     "metadata": {},
     "output_type": "display_data"
    },
    {
     "data": {
      "application/vnd.jupyter.widget-view+json": {
       "model_id": "bcd0f6f831c9467da5c0776f25bc0ae1",
       "version_major": 2,
       "version_minor": 0
      },
      "text/plain": [
       "New Data Upload                         : |          |  0.00B /  0.00B            "
      ]
     },
     "metadata": {},
     "output_type": "display_data"
    },
    {
     "data": {
      "application/vnd.jupyter.widget-view+json": {
       "model_id": "f016b27fa55e40e1a9711ae32b485988",
       "version_major": 2,
       "version_minor": 0
      },
      "text/plain": [
       "  /tmp/hffs-mjq3aubv                    : 100%|##########|  315kB /  315kB            "
      ]
     },
     "metadata": {},
     "output_type": "display_data"
    }
   ],
   "source": [
    "train_df.to_parquet(f'hf://datasets/khairi/drug-discovery-hetionet/train.parquet', index=False)"
   ]
  },
  {
   "cell_type": "code",
   "execution_count": 53,
   "id": "7b88487e",
   "metadata": {},
   "outputs": [
    {
     "data": {
      "application/vnd.jupyter.widget-view+json": {
       "model_id": "6ff24594a75b4fdb89e1399f8a6f1b3d",
       "version_major": 2,
       "version_minor": 0
      },
      "text/plain": [
       "Processing Files (0 / 0)                : |          |  0.00B /  0.00B            "
      ]
     },
     "metadata": {},
     "output_type": "display_data"
    },
    {
     "data": {
      "application/vnd.jupyter.widget-view+json": {
       "model_id": "75668eeb7f29472eb5c093e580c19d55",
       "version_major": 2,
       "version_minor": 0
      },
      "text/plain": [
       "New Data Upload                         : |          |  0.00B /  0.00B            "
      ]
     },
     "metadata": {},
     "output_type": "display_data"
    },
    {
     "data": {
      "application/vnd.jupyter.widget-view+json": {
       "model_id": "30f173f45ecc425880c9e27028ac3478",
       "version_major": 2,
       "version_minor": 0
      },
      "text/plain": [
       "  /tmp/hffs-gm1xqe2u                    : 100%|##########| 30.3kB / 30.3kB            "
      ]
     },
     "metadata": {},
     "output_type": "display_data"
    }
   ],
   "source": [
    "validation_df.to_parquet(f'hf://datasets/khairi/drug-discovery-hetionet/validation.parquet', index=False)"
   ]
  },
  {
   "cell_type": "code",
   "execution_count": 54,
   "id": "7b457942",
   "metadata": {},
   "outputs": [],
   "source": [
    "# TODO: document the notebook"
   ]
  },
  {
   "cell_type": "code",
   "execution_count": null,
   "id": "bbeb7dfb",
   "metadata": {},
   "outputs": [],
   "source": []
  }
 ],
 "metadata": {
  "kernelspec": {
   "display_name": "torch",
   "language": "python",
   "name": "python3"
  },
  "language_info": {
   "codemirror_mode": {
    "name": "ipython",
    "version": 3
   },
   "file_extension": ".py",
   "mimetype": "text/x-python",
   "name": "python",
   "nbconvert_exporter": "python",
   "pygments_lexer": "ipython3",
   "version": "3.10.18"
  }
 },
 "nbformat": 4,
 "nbformat_minor": 5
}
