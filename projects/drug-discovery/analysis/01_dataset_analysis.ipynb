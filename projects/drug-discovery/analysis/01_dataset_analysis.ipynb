{
 "cells": [
  {
   "cell_type": "code",
   "execution_count": 2,
   "id": "e8345735",
   "metadata": {},
   "outputs": [],
   "source": [
    "from transformers import T5Tokenizer\n",
    "import pandas as pd"
   ]
  },
  {
   "cell_type": "code",
   "execution_count": 3,
   "id": "d216e6d3",
   "metadata": {},
   "outputs": [],
   "source": [
    "model_name = 'google/flan-t5-base'\n",
    "train_file = 'hf://datasets/khairi/drug-discovery-hetionet/train.parquet'\n",
    "valid_file = 'hf://datasets/khairi/drug-discovery-hetionet/validation.parquet'"
   ]
  },
  {
   "cell_type": "code",
   "execution_count": 4,
   "id": "1f0eaf11",
   "metadata": {},
   "outputs": [
    {
     "data": {
      "application/vnd.jupyter.widget-view+json": {
       "model_id": "1c0075b84040470a9c4cf9cc7255c8c3",
       "version_major": 2,
       "version_minor": 0
      },
      "text/plain": [
       "tokenizer_config.json: 0.00B [00:00, ?B/s]"
      ]
     },
     "metadata": {},
     "output_type": "display_data"
    },
    {
     "data": {
      "application/vnd.jupyter.widget-view+json": {
       "model_id": "69c4403ecb8848ccb54ab4ac79f42cbc",
       "version_major": 2,
       "version_minor": 0
      },
      "text/plain": [
       "spiece.model:   0%|          | 0.00/792k [00:00<?, ?B/s]"
      ]
     },
     "metadata": {},
     "output_type": "display_data"
    },
    {
     "data": {
      "application/vnd.jupyter.widget-view+json": {
       "model_id": "de5f69413450450aa71e347a153f349f",
       "version_major": 2,
       "version_minor": 0
      },
      "text/plain": [
       "special_tokens_map.json: 0.00B [00:00, ?B/s]"
      ]
     },
     "metadata": {},
     "output_type": "display_data"
    },
    {
     "data": {
      "application/vnd.jupyter.widget-view+json": {
       "model_id": "9963c5036b2d47968af6c584ebd3b3b4",
       "version_major": 2,
       "version_minor": 0
      },
      "text/plain": [
       "tokenizer.json: 0.00B [00:00, ?B/s]"
      ]
     },
     "metadata": {},
     "output_type": "display_data"
    },
    {
     "name": "stderr",
     "output_type": "stream",
     "text": [
      "You are using the default legacy behaviour of the <class 'transformers.models.t5.tokenization_t5.T5Tokenizer'>. This is expected, and simply means that the `legacy` (previous) behavior will be used so nothing changes for you. If you want to use the new behaviour, set `legacy=False`. This should only be set if you understand what it means, and thoroughly read the reason why this was added as explained in https://github.com/huggingface/transformers/pull/24565\n"
     ]
    }
   ],
   "source": [
    "tokenizer = T5Tokenizer.from_pretrained(model_name)"
   ]
  },
  {
   "cell_type": "code",
   "execution_count": 5,
   "id": "a8f176a7",
   "metadata": {},
   "outputs": [],
   "source": [
    "train_df = pd.read_parquet(train_file)\n",
    "valid_df = pd.read_parquet(valid_file)"
   ]
  },
  {
   "cell_type": "code",
   "execution_count": 6,
   "id": "dfe0d8ee",
   "metadata": {},
   "outputs": [
    {
     "data": {
      "text/html": [
       "<div>\n",
       "<style scoped>\n",
       "    .dataframe tbody tr th:only-of-type {\n",
       "        vertical-align: middle;\n",
       "    }\n",
       "\n",
       "    .dataframe tbody tr th {\n",
       "        vertical-align: top;\n",
       "    }\n",
       "\n",
       "    .dataframe thead th {\n",
       "        text-align: right;\n",
       "    }\n",
       "</style>\n",
       "<table border=\"1\" class=\"dataframe\">\n",
       "  <thead>\n",
       "    <tr style=\"text-align: right;\">\n",
       "      <th></th>\n",
       "      <th>input</th>\n",
       "      <th>target</th>\n",
       "    </tr>\n",
       "  </thead>\n",
       "  <tbody>\n",
       "    <tr>\n",
       "      <th>0</th>\n",
       "      <td>Predict drugs for the central gene based on it...</td>\n",
       "      <td>- Isoniazid \\n- Dapsone \\n- Sulfamethoxazole \\...</td>\n",
       "    </tr>\n",
       "    <tr>\n",
       "      <th>1</th>\n",
       "      <td>Predict drugs for the central gene based on it...</td>\n",
       "      <td>- Pentostatin \\n- Adenosine \\n- Edetic Acid \\n...</td>\n",
       "    </tr>\n",
       "  </tbody>\n",
       "</table>\n",
       "</div>"
      ],
      "text/plain": [
       "                                               input  \\\n",
       "0  Predict drugs for the central gene based on it...   \n",
       "1  Predict drugs for the central gene based on it...   \n",
       "\n",
       "                                              target  \n",
       "0  - Isoniazid \\n- Dapsone \\n- Sulfamethoxazole \\...  \n",
       "1  - Pentostatin \\n- Adenosine \\n- Edetic Acid \\n...  "
      ]
     },
     "execution_count": 6,
     "metadata": {},
     "output_type": "execute_result"
    }
   ],
   "source": [
    "train_df.head(2)"
   ]
  },
  {
   "cell_type": "code",
   "execution_count": 24,
   "id": "4c036c60",
   "metadata": {},
   "outputs": [],
   "source": [
    "def count_tokens(df):\n",
    "    data = []\n",
    "    for _, row in train_df.iterrows():\n",
    "        data.append({\n",
    "            'input_num_tokens': len(tokenizer.encode(row['input'])),\n",
    "            'output_num_tokens': len(tokenizer.encode(row['target']))\n",
    "        })\n",
    "        \n",
    "    return pd.DataFrame(data)"
   ]
  },
  {
   "cell_type": "code",
   "execution_count": 25,
   "id": "f7697fb9",
   "metadata": {},
   "outputs": [],
   "source": [
    "train_token_count = pd.DataFrame(count_tokens(train_df))\n",
    "valid_token_count = pd.DataFrame(count_tokens(valid_df))"
   ]
  },
  {
   "cell_type": "code",
   "execution_count": 26,
   "id": "d33e420b",
   "metadata": {},
   "outputs": [
    {
     "data": {
      "text/html": [
       "<div>\n",
       "<style scoped>\n",
       "    .dataframe tbody tr th:only-of-type {\n",
       "        vertical-align: middle;\n",
       "    }\n",
       "\n",
       "    .dataframe tbody tr th {\n",
       "        vertical-align: top;\n",
       "    }\n",
       "\n",
       "    .dataframe thead th {\n",
       "        text-align: right;\n",
       "    }\n",
       "</style>\n",
       "<table border=\"1\" class=\"dataframe\">\n",
       "  <thead>\n",
       "    <tr style=\"text-align: right;\">\n",
       "      <th></th>\n",
       "      <th>input_num_tokens</th>\n",
       "      <th>output_num_tokens</th>\n",
       "    </tr>\n",
       "  </thead>\n",
       "  <tbody>\n",
       "    <tr>\n",
       "      <th>0</th>\n",
       "      <td>156</td>\n",
       "      <td>48</td>\n",
       "    </tr>\n",
       "    <tr>\n",
       "      <th>1</th>\n",
       "      <td>244</td>\n",
       "      <td>45</td>\n",
       "    </tr>\n",
       "    <tr>\n",
       "      <th>2</th>\n",
       "      <td>265</td>\n",
       "      <td>7</td>\n",
       "    </tr>\n",
       "    <tr>\n",
       "      <th>3</th>\n",
       "      <td>127</td>\n",
       "      <td>9</td>\n",
       "    </tr>\n",
       "    <tr>\n",
       "      <th>4</th>\n",
       "      <td>137</td>\n",
       "      <td>8</td>\n",
       "    </tr>\n",
       "  </tbody>\n",
       "</table>\n",
       "</div>"
      ],
      "text/plain": [
       "   input_num_tokens  output_num_tokens\n",
       "0               156                 48\n",
       "1               244                 45\n",
       "2               265                  7\n",
       "3               127                  9\n",
       "4               137                  8"
      ]
     },
     "execution_count": 26,
     "metadata": {},
     "output_type": "execute_result"
    }
   ],
   "source": [
    "train_token_count.head(5)"
   ]
  },
  {
   "cell_type": "code",
   "execution_count": 27,
   "id": "237be3d9",
   "metadata": {},
   "outputs": [
    {
     "name": "stdout",
     "output_type": "stream",
     "text": [
      "train dataset average input length: 221.3681560730019 tokens\n",
      "train dataset max input length: 270 tokens\n",
      "train dataset min input length: 28 tokens\n"
     ]
    }
   ],
   "source": [
    "print('train dataset average input length: {} tokens'.format(train_token_count['input_num_tokens'].mean()))\n",
    "print('train dataset max input length: {} tokens'.format(train_token_count['input_num_tokens'].max()))\n",
    "print('train dataset min input length: {} tokens'.format(train_token_count['input_num_tokens'].min()))"
   ]
  },
  {
   "cell_type": "code",
   "execution_count": 28,
   "id": "ead71214",
   "metadata": {},
   "outputs": [
    {
     "name": "stdout",
     "output_type": "stream",
     "text": [
      "train dataset average output length: 48.91818753933291 tokens\n",
      "train dataset max output length: 3547 tokens\n",
      "train dataset min output length: 5 tokens\n"
     ]
    }
   ],
   "source": [
    "print('train dataset average output length: {} tokens'.format(train_token_count['output_num_tokens'].mean()))\n",
    "print('train dataset max output length: {} tokens'.format(train_token_count['output_num_tokens'].max()))\n",
    "print('train dataset min output length: {} tokens'.format(train_token_count['output_num_tokens'].min()))"
   ]
  },
  {
   "cell_type": "code",
   "execution_count": 33,
   "id": "91e8b9e0",
   "metadata": {},
   "outputs": [
    {
     "name": "stdout",
     "output_type": "stream",
     "text": [
      "average number of annotation per input: 8.07803650094399\n",
      "maximum number of annotation: 517\n",
      "minimum number of annotation: 2\n"
     ]
    }
   ],
   "source": [
    "print('average number of annotation per input: {}'.format(train_df['target'].map(lambda x: len(x.split('-'))).mean()))\n",
    "print('maximum number of annotation: {}'.format(train_df['target'].map(lambda x: len(x.split('-'))).max()))\n",
    "print('minimum number of annotation: {}'.format(train_df['target'].map(lambda x: len(x.split('-'))).min()))"
   ]
  },
  {
   "cell_type": "code",
   "execution_count": 35,
   "id": "fc6d2b84",
   "metadata": {},
   "outputs": [
    {
     "data": {
      "text/plain": [
       "((1403, 3), (1589, 3))"
      ]
     },
     "execution_count": 35,
     "metadata": {},
     "output_type": "execute_result"
    }
   ],
   "source": [
    "train_df['num_annotation'] = train_df['target'].map(lambda x: len(x.split('-')))\n",
    "\n",
    "train_df[train_df['num_annotation'] <= 10].shape, train_df.shape"
   ]
  },
  {
   "cell_type": "code",
   "execution_count": 36,
   "id": "01d8c522",
   "metadata": {},
   "outputs": [],
   "source": [
    "# TODO: filter out genes with more than 10 annotations (reduce output size) "
   ]
  },
  {
   "cell_type": "code",
   "execution_count": null,
   "id": "c51ff657",
   "metadata": {},
   "outputs": [],
   "source": []
  }
 ],
 "metadata": {
  "kernelspec": {
   "display_name": "torch",
   "language": "python",
   "name": "python3"
  },
  "language_info": {
   "codemirror_mode": {
    "name": "ipython",
    "version": 3
   },
   "file_extension": ".py",
   "mimetype": "text/x-python",
   "name": "python",
   "nbconvert_exporter": "python",
   "pygments_lexer": "ipython3",
   "version": "3.10.18"
  }
 },
 "nbformat": 4,
 "nbformat_minor": 5
}
